{
  "nbformat": 4,
  "nbformat_minor": 0,
  "metadata": {
    "colab": {
      "name": "Star_rating_predection_Project.ipynb",
      "provenance": [],
      "include_colab_link": true
    },
    "kernelspec": {
      "name": "python3",
      "display_name": "Python 3"
    },
    "language_info": {
      "name": "python"
    }
  },
  "cells": [
    {
      "cell_type": "markdown",
      "metadata": {
        "id": "view-in-github",
        "colab_type": "text"
      },
      "source": [
        "<a href=\"https://colab.research.google.com/github/MahmoodAhmad1/ProgrammingAssignment2/blob/master/Star_rating_predection_Project.ipynb\" target=\"_parent\"><img src=\"https://colab.research.google.com/assets/colab-badge.svg\" alt=\"Open In Colab\"/></a>"
      ]
    },
    {
      "cell_type": "code",
      "metadata": {
        "id": "JYJyJLVzJj_i"
      },
      "source": [
        "#star rating predection\n",
        "#Mahmood Ahmad\n",
        "#Muhammad Awais\n",
        "#Muhammad Zubair"
      ],
      "execution_count": null,
      "outputs": []
    },
    {
      "cell_type": "code",
      "metadata": {
        "id": "X6YL1n9VfNKp"
      },
      "source": [
        "import pandas as pd\n",
        "import numpy as np\n",
        "import matplotlib as mpl\n",
        "import matplotlib.pyplot as plt\n",
        "import seaborn as sns\n",
        "from sklearn.datasets import *\n",
        "from dtreeviz.trees import *\n",
        "from IPython.display import Image, display_svg, SVG\n"
      ],
      "execution_count": null,
      "outputs": []
    },
    {
      "cell_type": "markdown",
      "metadata": {
        "id": "8onKcQY1iLDM"
      },
      "source": [
        "**Reading data**"
      ]
    },
    {
      "cell_type": "code",
      "metadata": {
        "colab": {
          "base_uri": "https://localhost:8080/"
        },
        "id": "a9YoEae2hzBq",
        "outputId": "17b5d5d8-9a9a-48db-cc39-9a41bcf14ba7"
      },
      "source": [
        "%load_ext google.colab.data_table\n",
        "data=pd.read_csv('/content/Musical_instruments_reviews.csv')\n"
      ],
      "execution_count": null,
      "outputs": [
        {
          "output_type": "stream",
          "text": [
            "The google.colab.data_table extension is already loaded. To reload it, use:\n",
            "  %reload_ext google.colab.data_table\n"
          ],
          "name": "stdout"
        }
      ]
    },
    {
      "cell_type": "markdown",
      "metadata": {
        "id": "OVv9TS3pBv38"
      },
      "source": [
        "#**Basic data analysis**"
      ]
    },
    {
      "cell_type": "code",
      "metadata": {
        "id": "kRVfsszZB_-5"
      },
      "source": [
        "#Ensure file reading \n",
        "data.head()"
      ],
      "execution_count": null,
      "outputs": []
    },
    {
      "cell_type": "code",
      "metadata": {
        "colab": {
          "base_uri": "https://localhost:8080/"
        },
        "id": "fXX6jKe6iPN8",
        "outputId": "cbd0b900-cc8b-42f3-da10-ac8295cb61b0"
      },
      "source": [
        "#Total Rows & Columns\n",
        "data.shape"
      ],
      "execution_count": null,
      "outputs": [
        {
          "output_type": "execute_result",
          "data": {
            "text/plain": [
              "(10261, 9)"
            ]
          },
          "metadata": {
            "tags": []
          },
          "execution_count": 147
        }
      ]
    },
    {
      "cell_type": "code",
      "metadata": {
        "id": "GWbSLUNZCHkj"
      },
      "source": [
        "data.describe()"
      ],
      "execution_count": null,
      "outputs": []
    },
    {
      "cell_type": "code",
      "metadata": {
        "colab": {
          "base_uri": "https://localhost:8080/"
        },
        "id": "HSY_TDnSCXMU",
        "outputId": "07bfbc70-02e4-4ebf-c408-de2aa7b8e62d"
      },
      "source": [
        "#check missing values\n",
        "null= data.isnull()\n",
        "null.sum()"
      ],
      "execution_count": null,
      "outputs": [
        {
          "output_type": "execute_result",
          "data": {
            "text/plain": [
              "reviewerID         0\n",
              "asin               0\n",
              "reviewerName      27\n",
              "helpful            0\n",
              "reviewText         7\n",
              "overall            0\n",
              "summary            0\n",
              "unixReviewTime     0\n",
              "reviewTime         0\n",
              "dtype: int64"
            ]
          },
          "metadata": {
            "tags": []
          },
          "execution_count": 150
        }
      ]
    },
    {
      "cell_type": "code",
      "metadata": {
        "id": "H3OqnuJACfY_"
      },
      "source": [
        "#columns description \n",
        "data.columns"
      ],
      "execution_count": null,
      "outputs": []
    },
    {
      "cell_type": "code",
      "metadata": {
        "colab": {
          "base_uri": "https://localhost:8080/"
        },
        "id": "55Z3VrnGCl7y",
        "outputId": "ff966d9d-0b14-40fe-d298-fdd8f74c343a"
      },
      "source": [
        "#index for  dataset\n",
        "data.index"
      ],
      "execution_count": null,
      "outputs": [
        {
          "output_type": "execute_result",
          "data": {
            "text/plain": [
              "RangeIndex(start=0, stop=10261, step=1)"
            ]
          },
          "metadata": {
            "tags": []
          },
          "execution_count": 152
        }
      ]
    },
    {
      "cell_type": "code",
      "metadata": {
        "colab": {
          "base_uri": "https://localhost:8080/"
        },
        "id": "dQtTwOcWCsc8",
        "outputId": "210392ef-ccb8-4064-cacd-f2128dad2820"
      },
      "source": [
        "#info of  dataset columns\n",
        "data.info()"
      ],
      "execution_count": null,
      "outputs": [
        {
          "output_type": "stream",
          "text": [
            "<class 'pandas.core.frame.DataFrame'>\n",
            "RangeIndex: 10261 entries, 0 to 10260\n",
            "Data columns (total 9 columns):\n",
            " #   Column          Non-Null Count  Dtype  \n",
            "---  ------          --------------  -----  \n",
            " 0   reviewerID      10261 non-null  object \n",
            " 1   asin            10261 non-null  object \n",
            " 2   reviewerName    10234 non-null  object \n",
            " 3   helpful         10261 non-null  object \n",
            " 4   reviewText      10254 non-null  object \n",
            " 5   overall         10261 non-null  float64\n",
            " 6   summary         10261 non-null  object \n",
            " 7   unixReviewTime  10261 non-null  int64  \n",
            " 8   reviewTime      10261 non-null  object \n",
            "dtypes: float64(1), int64(1), object(7)\n",
            "memory usage: 721.6+ KB\n"
          ],
          "name": "stdout"
        }
      ]
    },
    {
      "cell_type": "code",
      "metadata": {
        "colab": {
          "base_uri": "https://localhost:8080/"
        },
        "id": "ucausIsAijp_",
        "outputId": "2255a272-0a2e-498a-a0ec-78ee24316356"
      },
      "source": [
        "df['overall'].value_counts()"
      ],
      "execution_count": null,
      "outputs": [
        {
          "output_type": "execute_result",
          "data": {
            "text/plain": [
              "5.0    6938\n",
              "4.0    2084\n",
              "3.0     772\n",
              "2.0     250\n",
              "1.0     217\n",
              "Name: overall, dtype: int64"
            ]
          },
          "metadata": {
            "tags": []
          },
          "execution_count": 20
        }
      ]
    },
    {
      "cell_type": "code",
      "metadata": {
        "colab": {
          "base_uri": "https://localhost:8080/",
          "height": 535
        },
        "id": "l5tNn7tBDDn5",
        "outputId": "c9d6db31-cdd5-4997-866b-fa25749259d2"
      },
      "source": [
        "sns.countplot(x='overall', data=data)  \n",
        "sns.set(rc={'figure.figsize':(12,8.3)})        #each season match count\n",
        "plt.title('count against each rating')\n",
        "plt.show()"
      ],
      "execution_count": null,
      "outputs": [
        {
          "output_type": "display_data",
          "data": {
            "image/png": "[encoded data removed]",
            "text/plain": [
              "<Figure size 864x597.6 with 1 Axes>"
            ]
          },
          "metadata": {
            "tags": []
          }
        }
      ]
    },
    {
      "cell_type": "markdown",
      "metadata": {
        "id": "gacfup9NpDzu"
      },
      "source": [
        "#installing Preprocessing Text Python Package"
      ]
    },
    {
      "cell_type": "code",
      "metadata": {
        "colab": {
          "base_uri": "https://localhost:8080/"
        },
        "id": "HHUhRAP_oSPC",
        "outputId": "345125ae-77ab-48b5-d775-5fc390d174e7"
      },
      "source": [
        "! pip install git+https://github.com/laxmimerit/preprocess_kgptalkie.git --upgrade --force-reinstall\n",
        "\n"
      ],
      "execution_count": null,
      "outputs": [
        {
          "output_type": "stream",
          "text": [
            "Collecting git+https://github.com/laxmimerit/preprocess_kgptalkie.git\n",
            "  Cloning https://github.com/laxmimerit/preprocess_kgptalkie.git to /tmp/pip-req-build-m9m4_iek\n",
            "  Running command git clone -q https://github.com/laxmimerit/preprocess_kgptalkie.git /tmp/pip-req-build-m9m4_iek\n",
            "Building wheels for collected packages: preprocess-kgptalkie\n",
            "  Building wheel for preprocess-kgptalkie (setup.py) ... \u001b[?25l\u001b[?25hdone\n",
            "  Created wheel for preprocess-kgptalkie: filename=preprocess_kgptalkie-0.1.3-cp37-none-any.whl size=11759 sha256=e4581eeb0b0c5ed8dff850b284c1bc50bc60f4c2088148e46aa11fac13148c61\n",
            "  Stored in directory: /tmp/pip-ephem-wheel-cache-hog_u70j/wheels/a8/18/22/90afa4bd43247fb9a75b710a4a3fcd94966c022ce9e3c7d0a6\n",
            "Successfully built preprocess-kgptalkie\n",
            "Installing collected packages: preprocess-kgptalkie\n",
            "Successfully installed preprocess-kgptalkie-0.1.3\n"
          ],
          "name": "stdout"
        }
      ]
    },
    {
      "cell_type": "markdown",
      "metadata": {
        "id": "QzoosAyFJ2Fz"
      },
      "source": [
        "**Taking only two column :user comment and rating**"
      ]
    },
    {
      "cell_type": "code",
      "metadata": {
        "id": "glu1dynmBQpz"
      },
      "source": [
        "df=pd.read_csv('/content/Musical_instruments_reviews.csv',usecols=['reviewText','overall'])"
      ],
      "execution_count": null,
      "outputs": []
    },
    {
      "cell_type": "markdown",
      "metadata": {
        "id": "G17SKDE5BHca"
      },
      "source": [
        "#preprocessing"
      ]
    },
    {
      "cell_type": "code",
      "metadata": {
        "id": "zccLgC_HpZNu"
      },
      "source": [
        "import preprocess_kgptalkie as ps\n",
        "import re"
      ],
      "execution_count": null,
      "outputs": []
    },
    {
      "cell_type": "code",
      "metadata": {
        "id": "Jusiwm71ps2E"
      },
      "source": [
        "def get_clean(x):\n",
        "    x = str(x).lower().replace('\\\\', '').replace('_', ' ')\n",
        "    x = ps.cont_exp(x)\n",
        "    x = ps.remove_emails(x)\n",
        "    x = ps.remove_urls(x)\n",
        "    x = ps.remove_html_tags(x)\n",
        "    x = ps.remove_rt(x)\n",
        "    x = ps.remove_accented_chars(x)\n",
        "    x = ps.remove_special_chars(x)\n",
        "    x = re.sub(\"(.)\\\\1{2,}\", \"\\\\1\", x)\n",
        "    return x"
      ],
      "execution_count": null,
      "outputs": []
    },
    {
      "cell_type": "code",
      "metadata": {
        "id": "TQ8hJtvzqf22"
      },
      "source": [
        "df['reviewText']=df['reviewText'].apply(lambda x : get_clean(x))"
      ],
      "execution_count": null,
      "outputs": []
    },
    {
      "cell_type": "code",
      "metadata": {
        "colab": {
          "base_uri": "https://localhost:8080/",
          "height": 338
        },
        "id": "kyYuY9M5rD8M",
        "outputId": "63885129-b010-4752-e862-a4a6995405a5"
      },
      "source": [
        "df.head()"
      ],
      "execution_count": null,
      "outputs": [
        {
          "output_type": "execute_result",
          "data": {
            "application/vnd.google.colaboratory.module+javascript": "\n      import \"https://ssl.gstatic.com/colaboratory/data_table/a6224c040fa35dcf/data_table.js\";\n\n      window.createDataTable({\n        data: [[{\n            'v': 0,\n            'f': \"0\",\n        },\n\"not much to write about here but it does exactly what it is supposed to filters out the pop sounds now my recordings are much more crisp it is one of the lowest prices pop filters on amazon so might as well buy it they honestly work the same despite their pricing\",\n{\n            'v': 5.0,\n            'f': \"5.0\",\n        }],\n [{\n            'v': 1,\n            'f': \"1\",\n        },\n\"the product does exactly as it should and is quite affordablei did not realized it was double screened until it arrived so it was even better than i had expectedas an added bonus one of the screens carries a small hint of the smell of an old grape candy i used to buy so for reminiscents sake i cannot stop putting the pop filter next to my nose and smelling it after recording dif you needed a pop filter this will work just as well as the expensive ones and it may even come with a pleasing aroma like mine didbuy this product\",\n{\n            'v': 5.0,\n            'f': \"5.0\",\n        }],\n [{\n            'v': 2,\n            'f': \"2\",\n        },\n\"the primary job of this device is to block the breath that would otherwise produce a popping sound while allowing your voice to pass through with no noticeable reduction of volume or high frequencies the double cloth filter blocks the pops and lets the voice through with no coloration the metal clamp mount attaches to the mike stand secure enough to keep it attached the goose neck needs a little coaxing to stay where you put it\",\n{\n            'v': 5.0,\n            'f': \"5.0\",\n        }],\n [{\n            'v': 3,\n            'f': \"3\",\n        },\n\"nice windscreen protects my mxl mic and prevents pops only thing is that the gooseneck is only marginally able to hold the screen in position and requires careful positioning of the clamp to avoid sagging\",\n{\n            'v': 5.0,\n            'f': \"5.0\",\n        }],\n [{\n            'v': 4,\n            'f': \"4\",\n        },\n\"this pop filter is great it looks and performs like a studio filter if youre recording vocals this will eliminate the pops that gets recorded when you sing\",\n{\n            'v': 5.0,\n            'f': \"5.0\",\n        }]],\n        columns: [[\"number\", \"index\"], [\"string\", \"reviewText\"], [\"number\", \"overall\"]],\n        columnOptions: [{\"width\": \"1px\", \"className\": \"index_column\"}],\n        rowsPerPage: 25,\n        helpUrl: \"https://colab.research.google.com/notebooks/data_table.ipynb\",\n        suppressOutputScrolling: true,\n        minimumWidth: undefined,\n      });\n    ",
            "text/html": [
              "<div>\n",
              "<style scoped>\n",
              "    .dataframe tbody tr th:only-of-type {\n",
              "        vertical-align: middle;\n",
              "    }\n",
              "\n",
              "    .dataframe tbody tr th {\n",
              "        vertical-align: top;\n",
              "    }\n",
              "\n",
              "    .dataframe thead th {\n",
              "        text-align: right;\n",
              "    }\n",
              "</style>\n",
              "<table border=\"1\" class=\"dataframe\">\n",
              "  <thead>\n",
              "    <tr style=\"text-align: right;\">\n",
              "      <th></th>\n",
              "      <th>reviewText</th>\n",
              "      <th>overall</th>\n",
              "    </tr>\n",
              "  </thead>\n",
              "  <tbody>\n",
              "    <tr>\n",
              "      <th>0</th>\n",
              "      <td>not much to write about here but it does exact...</td>\n",
              "      <td>5.0</td>\n",
              "    </tr>\n",
              "    <tr>\n",
              "      <th>1</th>\n",
              "      <td>the product does exactly as it should and is q...</td>\n",
              "      <td>5.0</td>\n",
              "    </tr>\n",
              "    <tr>\n",
              "      <th>2</th>\n",
              "      <td>the primary job of this device is to block the...</td>\n",
              "      <td>5.0</td>\n",
              "    </tr>\n",
              "    <tr>\n",
              "      <th>3</th>\n",
              "      <td>nice windscreen protects my mxl mic and preven...</td>\n",
              "      <td>5.0</td>\n",
              "    </tr>\n",
              "    <tr>\n",
              "      <th>4</th>\n",
              "      <td>this pop filter is great it looks and performs...</td>\n",
              "      <td>5.0</td>\n",
              "    </tr>\n",
              "  </tbody>\n",
              "</table>\n",
              "</div>"
            ],
            "text/plain": [
              "                                          reviewText  overall\n",
              "0  not much to write about here but it does exact...      5.0\n",
              "1  the product does exactly as it should and is q...      5.0\n",
              "2  the primary job of this device is to block the...      5.0\n",
              "3  nice windscreen protects my mxl mic and preven...      5.0\n",
              "4  this pop filter is great it looks and performs...      5.0"
            ]
          },
          "metadata": {
            "tags": []
          },
          "execution_count": 178
        }
      ]
    },
    {
      "cell_type": "markdown",
      "metadata": {
        "id": "R71GIxdTrWtg"
      },
      "source": [
        "#TFIDF and Linear SVM"
      ]
    },
    {
      "cell_type": "code",
      "metadata": {
        "id": "PkI2LTGrrZga"
      },
      "source": [
        "from sklearn.feature_extraction.text import TfidfVectorizer\n",
        "from sklearn.model_selection import train_test_split\n",
        "from sklearn.svm import LinearSVC\n",
        "from sklearn.metrics import classification_report"
      ],
      "execution_count": null,
      "outputs": []
    },
    {
      "cell_type": "code",
      "metadata": {
        "id": "H4buVbcmsnNm"
      },
      "source": [
        "tfidf = TfidfVectorizer(max_features=20000 ,ngram_range=(1,5),analyzer='char')"
      ],
      "execution_count": null,
      "outputs": []
    },
    {
      "cell_type": "code",
      "metadata": {
        "id": "hYnGyzXotT8s"
      },
      "source": [
        "X=tfidf.fit_transform(df['reviewText'])\n",
        "Y=df['overall']"
      ],
      "execution_count": null,
      "outputs": []
    },
    {
      "cell_type": "code",
      "metadata": {
        "colab": {
          "base_uri": "https://localhost:8080/"
        },
        "id": "7YPjfSwXts2F",
        "outputId": "e993a743-0406-45f5-87b2-1f7f1a084160"
      },
      "source": [
        "X.shape ,Y.shape"
      ],
      "execution_count": null,
      "outputs": [
        {
          "output_type": "execute_result",
          "data": {
            "text/plain": [
              "((10261, 20000), (10261,))"
            ]
          },
          "metadata": {
            "tags": []
          },
          "execution_count": 64
        }
      ]
    },
    {
      "cell_type": "code",
      "metadata": {
        "id": "49aKLmOXt8Xt"
      },
      "source": [
        "X_train,X_test,Y_train,Y_test =train_test_split(X,Y,test_size=0.2 ,random_state=0)"
      ],
      "execution_count": null,
      "outputs": []
    },
    {
      "cell_type": "code",
      "metadata": {
        "colab": {
          "base_uri": "https://localhost:8080/"
        },
        "id": "Qm-maVtmupBM",
        "outputId": "dc79a3b8-45c5-491c-edf3-99ec771adcfe"
      },
      "source": [
        "X_train.shape ,Y_train.shape"
      ],
      "execution_count": null,
      "outputs": [
        {
          "output_type": "execute_result",
          "data": {
            "text/plain": [
              "((8208, 20000), (8208,))"
            ]
          },
          "metadata": {
            "tags": []
          },
          "execution_count": 66
        }
      ]
    },
    {
      "cell_type": "code",
      "metadata": {
        "colab": {
          "base_uri": "https://localhost:8080/"
        },
        "id": "iwsYBA2Zuw0k",
        "outputId": "ccc0e5d6-0d8d-4012-c0b1-0c283ac8ebca"
      },
      "source": [
        "clf=LinearSVC(C=10,class_weight='balanced')\n",
        "clf.fit(X_train,Y_train)"
      ],
      "execution_count": null,
      "outputs": [
        {
          "output_type": "execute_result",
          "data": {
            "text/plain": [
              "LinearSVC(C=10, class_weight='balanced', dual=True, fit_intercept=True,\n",
              "          intercept_scaling=1, loss='squared_hinge', max_iter=1000,\n",
              "          multi_class='ovr', penalty='l2', random_state=None, tol=0.0001,\n",
              "          verbose=0)"
            ]
          },
          "metadata": {
            "tags": []
          },
          "execution_count": 85
        }
      ]
    },
    {
      "cell_type": "code",
      "metadata": {
        "id": "ujy1fN9OwWGI"
      },
      "source": [
        "Y_pred=clf.predict(X_test)"
      ],
      "execution_count": null,
      "outputs": []
    },
    {
      "cell_type": "code",
      "metadata": {
        "colab": {
          "base_uri": "https://localhost:8080/"
        },
        "id": "Q8iYt_SgwiZ-",
        "outputId": "b3c15ffe-8c7e-49fb-df38-33a0df85eb44"
      },
      "source": [
        "print(classification_report(Y_test,Y_pred))"
      ],
      "execution_count": null,
      "outputs": [
        {
          "output_type": "stream",
          "text": [
            "              precision    recall  f1-score   support\n",
            "\n",
            "         1.0       0.35      0.23      0.28        39\n",
            "         2.0       0.19      0.11      0.14        55\n",
            "         3.0       0.24      0.30      0.27       134\n",
            "         4.0       0.35      0.33      0.34       451\n",
            "         5.0       0.78      0.79      0.78      1374\n",
            "\n",
            "    accuracy                           0.63      2053\n",
            "   macro avg       0.38      0.35      0.36      2053\n",
            "weighted avg       0.62      0.63      0.63      2053\n",
            "\n"
          ],
          "name": "stdout"
        }
      ]
    },
    {
      "cell_type": "markdown",
      "metadata": {
        "id": "VNeJt3sZ0bV-"
      },
      "source": [
        "#TFIDDF and Random forest"
      ]
    },
    {
      "cell_type": "code",
      "metadata": {
        "id": "ndjpmEQu0fUw"
      },
      "source": [
        "from sklearn.ensemble import RandomForestClassifier\n",
        "Rf=RandomForestClassifier(n_estimators=100,class_weight='balanced')"
      ],
      "execution_count": null,
      "outputs": []
    },
    {
      "cell_type": "code",
      "metadata": {
        "colab": {
          "base_uri": "https://localhost:8080/"
        },
        "id": "NcNXsLqM1UbJ",
        "outputId": "425a50f0-3c85-4d3a-988a-3ff44023ed93"
      },
      "source": [
        "Rf.fit(X_train,Y_train)"
      ],
      "execution_count": null,
      "outputs": [
        {
          "output_type": "execute_result",
          "data": {
            "text/plain": [
              "RandomForestClassifier(bootstrap=True, ccp_alpha=0.0, class_weight='balanced',\n",
              "                       criterion='gini', max_depth=None, max_features='auto',\n",
              "                       max_leaf_nodes=None, max_samples=None,\n",
              "                       min_impurity_decrease=0.0, min_impurity_split=None,\n",
              "                       min_samples_leaf=1, min_samples_split=2,\n",
              "                       min_weight_fraction_leaf=0.0, n_estimators=100,\n",
              "                       n_jobs=None, oob_score=False, random_state=None,\n",
              "                       verbose=0, warm_start=False)"
            ]
          },
          "metadata": {
            "tags": []
          },
          "execution_count": 137
        }
      ]
    },
    {
      "cell_type": "code",
      "metadata": {
        "id": "nFOOf6Kn2M_T"
      },
      "source": [
        "Rf_pred=Rf.predict(X_test)"
      ],
      "execution_count": null,
      "outputs": []
    },
    {
      "cell_type": "code",
      "metadata": {
        "colab": {
          "base_uri": "https://localhost:8080/"
        },
        "id": "PamvIAF-2aaM",
        "outputId": "0b7507eb-c3a8-4aac-885e-69f01a804dc0"
      },
      "source": [
        "print(classification_report(Y_test,Rf_pred))"
      ],
      "execution_count": null,
      "outputs": [
        {
          "output_type": "stream",
          "text": [
            "              precision    recall  f1-score   support\n",
            "\n",
            "         1.0       1.00      0.03      0.05        39\n",
            "         2.0       0.00      0.00      0.00        55\n",
            "         3.0       1.00      0.01      0.01       134\n",
            "         4.0       0.50      0.00      0.00       451\n",
            "         5.0       0.67      1.00      0.80      1374\n",
            "\n",
            "    accuracy                           0.67      2053\n",
            "   macro avg       0.63      0.21      0.17      2053\n",
            "weighted avg       0.64      0.67      0.54      2053\n",
            "\n"
          ],
          "name": "stdout"
        },
        {
          "output_type": "stream",
          "text": [
            "/usr/local/lib/python3.7/dist-packages/sklearn/metrics/_classification.py:1272: UndefinedMetricWarning: Precision and F-score are ill-defined and being set to 0.0 in labels with no predicted samples. Use `zero_division` parameter to control this behavior.\n",
            "  _warn_prf(average, modifier, msg_start, len(result))\n"
          ],
          "name": "stderr"
        }
      ]
    },
    {
      "cell_type": "markdown",
      "metadata": {
        "id": "ahxTeW0M4m_o"
      },
      "source": [
        "#TFIDF and KNeighborsClassifier"
      ]
    },
    {
      "cell_type": "code",
      "metadata": {
        "id": "t3ojrel94r31"
      },
      "source": [
        "from sklearn.neighbors import KNeighborsClassifier\n",
        "k=1\n",
        "knn=KNeighborsClassifier(n_neighbors=k ,metric='minkowski',weights='uniform')"
      ],
      "execution_count": null,
      "outputs": []
    },
    {
      "cell_type": "code",
      "metadata": {
        "colab": {
          "base_uri": "https://localhost:8080/"
        },
        "id": "PYtFOFG_5Pbw",
        "outputId": "cf05d0b9-ec97-49ae-9f8f-1f11e1629281"
      },
      "source": [
        "knn.fit(X_train,Y_train)"
      ],
      "execution_count": null,
      "outputs": [
        {
          "output_type": "execute_result",
          "data": {
            "text/plain": [
              "KNeighborsClassifier(algorithm='auto', leaf_size=30, metric='minkowski',\n",
              "                     metric_params=None, n_jobs=None, n_neighbors=1, p=2,\n",
              "                     weights='uniform')"
            ]
          },
          "metadata": {
            "tags": []
          },
          "execution_count": 113
        }
      ]
    },
    {
      "cell_type": "code",
      "metadata": {
        "id": "cLxfZv7-5YYp"
      },
      "source": [
        "knn_pred=knn.predict(X_test)"
      ],
      "execution_count": null,
      "outputs": []
    },
    {
      "cell_type": "code",
      "metadata": {
        "colab": {
          "base_uri": "https://localhost:8080/"
        },
        "id": "zTuj7w3E5kPb",
        "outputId": "9fa7c7e0-00ae-4d79-dc6a-2c07c1bbe987"
      },
      "source": [
        "print(classification_report(Y_test,knn_pred))"
      ],
      "execution_count": null,
      "outputs": [
        {
          "output_type": "stream",
          "text": [
            "              precision    recall  f1-score   support\n",
            "\n",
            "         1.0       0.19      0.08      0.11        39\n",
            "         2.0       0.04      0.09      0.05        55\n",
            "         3.0       0.10      0.19      0.13       134\n",
            "         4.0       0.20      0.15      0.17       451\n",
            "         5.0       0.67      0.64      0.66      1374\n",
            "\n",
            "    accuracy                           0.48      2053\n",
            "   macro avg       0.24      0.23      0.22      2053\n",
            "weighted avg       0.50      0.48      0.49      2053\n",
            "\n"
          ],
          "name": "stdout"
        }
      ]
    },
    {
      "cell_type": "markdown",
      "metadata": {
        "id": "EtubIced6zI5"
      },
      "source": [
        "#TFIDF and LogisticRegression\n",
        "\n",
        "> Indented block\n",
        "\n"
      ]
    },
    {
      "cell_type": "code",
      "metadata": {
        "id": "XH70nBdJ6wtd"
      },
      "source": [
        "from sklearn.linear_model import LogisticRegression\n",
        "nb = LogisticRegression(C=20,class_weight='balanced')"
      ],
      "execution_count": null,
      "outputs": []
    },
    {
      "cell_type": "code",
      "metadata": {
        "colab": {
          "base_uri": "https://localhost:8080/"
        },
        "id": "2JW-Efdd7CNZ",
        "outputId": "61408671-80b2-4db5-f644-d276473d6bee"
      },
      "source": [
        "nb.fit(X_train,Y_train)"
      ],
      "execution_count": null,
      "outputs": [
        {
          "output_type": "stream",
          "text": [
            "/usr/local/lib/python3.7/dist-packages/sklearn/linear_model/_logistic.py:940: ConvergenceWarning: lbfgs failed to converge (status=1):\n",
            "STOP: TOTAL NO. of ITERATIONS REACHED LIMIT.\n",
            "\n",
            "Increase the number of iterations (max_iter) or scale the data as shown in:\n",
            "    https://scikit-learn.org/stable/modules/preprocessing.html\n",
            "Please also refer to the documentation for alternative solver options:\n",
            "    https://scikit-learn.org/stable/modules/linear_model.html#logistic-regression\n",
            "  extra_warning_msg=_LOGISTIC_SOLVER_CONVERGENCE_MSG)\n"
          ],
          "name": "stderr"
        },
        {
          "output_type": "execute_result",
          "data": {
            "text/plain": [
              "LogisticRegression(C=20, class_weight='balanced', dual=False,\n",
              "                   fit_intercept=True, intercept_scaling=1, l1_ratio=None,\n",
              "                   max_iter=100, multi_class='auto', n_jobs=None, penalty='l2',\n",
              "                   random_state=None, solver='lbfgs', tol=0.0001, verbose=0,\n",
              "                   warm_start=False)"
            ]
          },
          "metadata": {
            "tags": []
          },
          "execution_count": 133
        }
      ]
    },
    {
      "cell_type": "code",
      "metadata": {
        "id": "Td6qmkUC_ey_"
      },
      "source": [
        "nb_pred=nb.predict(X_test)"
      ],
      "execution_count": null,
      "outputs": []
    },
    {
      "cell_type": "code",
      "metadata": {
        "colab": {
          "base_uri": "https://localhost:8080/"
        },
        "id": "qRpcpIjY_olC",
        "outputId": "9afda67c-ac70-4b13-97c4-1e79228b5cd8"
      },
      "source": [
        "print(classification_report(Y_test,nb_pred))"
      ],
      "execution_count": null,
      "outputs": [
        {
          "output_type": "stream",
          "text": [
            "              precision    recall  f1-score   support\n",
            "\n",
            "         1.0       0.26      0.36      0.30        39\n",
            "         2.0       0.18      0.15      0.16        55\n",
            "         3.0       0.22      0.40      0.28       134\n",
            "         4.0       0.33      0.39      0.36       451\n",
            "         5.0       0.81      0.70      0.75      1374\n",
            "\n",
            "    accuracy                           0.59      2053\n",
            "   macro avg       0.36      0.40      0.37      2053\n",
            "weighted avg       0.64      0.59      0.61      2053\n",
            "\n"
          ],
          "name": "stdout"
        }
      ]
    },
    {
      "cell_type": "markdown",
      "metadata": {
        "id": "yhAMakAj9OwU"
      },
      "source": [
        "#TFIDF and Decsion Tree"
      ]
    },
    {
      "cell_type": "code",
      "metadata": {
        "id": "3r0rciCo9mlJ"
      },
      "source": [
        "from sklearn.tree import DecisionTreeClassifier\n",
        "dt = DecisionTreeClassifier()"
      ],
      "execution_count": null,
      "outputs": []
    },
    {
      "cell_type": "code",
      "metadata": {
        "colab": {
          "base_uri": "https://localhost:8080/"
        },
        "id": "gByB91ou9t-t",
        "outputId": "87ae6621-99ef-45e6-e6b8-2f3029ce8428"
      },
      "source": [
        "dt.fit(X_train,Y_train)"
      ],
      "execution_count": null,
      "outputs": [
        {
          "output_type": "execute_result",
          "data": {
            "text/plain": [
              "DecisionTreeClassifier(ccp_alpha=0.0, class_weight=None, criterion='gini',\n",
              "                       max_depth=None, max_features=None, max_leaf_nodes=None,\n",
              "                       min_impurity_decrease=0.0, min_impurity_split=None,\n",
              "                       min_samples_leaf=1, min_samples_split=2,\n",
              "                       min_weight_fraction_leaf=0.0, presort='deprecated',\n",
              "                       random_state=None, splitter='best')"
            ]
          },
          "metadata": {
            "tags": []
          },
          "execution_count": 120
        }
      ]
    },
    {
      "cell_type": "code",
      "metadata": {
        "id": "gzcCqJIr9y0A"
      },
      "source": [
        "dt_pred=dt.predict(X_test)"
      ],
      "execution_count": null,
      "outputs": []
    },
    {
      "cell_type": "code",
      "metadata": {
        "colab": {
          "base_uri": "https://localhost:8080/"
        },
        "id": "CwrlFo1Q93YM",
        "outputId": "43da479f-7501-4d86-85f8-afdcb682070c"
      },
      "source": [
        "print(classification_report(Y_test,dt_pred))"
      ],
      "execution_count": null,
      "outputs": [
        {
          "output_type": "stream",
          "text": [
            "              precision    recall  f1-score   support\n",
            "\n",
            "         1.0       0.10      0.10      0.10        39\n",
            "         2.0       0.05      0.04      0.04        55\n",
            "         3.0       0.10      0.13      0.11       134\n",
            "         4.0       0.25      0.23      0.24       451\n",
            "         5.0       0.71      0.72      0.72      1374\n",
            "\n",
            "    accuracy                           0.54      2053\n",
            "   macro avg       0.24      0.24      0.24      2053\n",
            "weighted avg       0.54      0.54      0.54      2053\n",
            "\n"
          ],
          "name": "stdout"
        }
      ]
    },
    {
      "cell_type": "markdown",
      "metadata": {
        "id": "snmTAzflEzTl"
      },
      "source": [
        "#visulation"
      ]
    },
    {
      "cell_type": "markdown",
      "metadata": {
        "id": "qR5ysZlUAlkm"
      },
      "source": [
        "#Test\n"
      ]
    },
    {
      "cell_type": "code",
      "metadata": {
        "colab": {
          "base_uri": "https://localhost:8080/"
        },
        "id": "X2NbD_F-AncO",
        "outputId": "6ec14aad-83b0-44a0-f444-dc4f824a0ad3"
      },
      "source": [
        "t='this is really good product'\n",
        "t=get_clean(t)\n",
        "vec=tfidf.transform([t])\n",
        "clf.predict(vec)"
      ],
      "execution_count": null,
      "outputs": [
        {
          "output_type": "execute_result",
          "data": {
            "text/plain": [
              "array([5.])"
            ]
          },
          "metadata": {
            "tags": []
          },
          "execution_count": 140
        }
      ]
    },
    {
      "cell_type": "code",
      "metadata": {
        "colab": {
          "base_uri": "https://localhost:8080/"
        },
        "id": "SfE61gjUApHa",
        "outputId": "44b78a8f-c29b-4303-8e3b-c3dfb2cc8ef6"
      },
      "source": [
        "t='this is really bad .i do not like it'\n",
        "t=get_clean(t)\n",
        "vec=tfidf.transform([t])\n",
        "clf.predict(vec)"
      ],
      "execution_count": null,
      "outputs": [
        {
          "output_type": "execute_result",
          "data": {
            "text/plain": [
              "array([1.])"
            ]
          },
          "metadata": {
            "tags": []
          },
          "execution_count": 141
        }
      ]
    }
  ]
}